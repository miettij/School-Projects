{
 "cells": [
  {
   "cell_type": "markdown",
   "metadata": {},
   "source": [
    "**Machine Learning Basic Principles 2018 - Data Analysis Project Report**"
   ]
  },
  {
   "cell_type": "markdown",
   "metadata": {},
   "source": [
    "# Comparing machine learning algorithms in music genre classification"
   ]
  },
  {
   "cell_type": "markdown",
   "metadata": {},
   "source": [
    "## Abstract"
   ]
  },
  {
   "cell_type": "markdown",
   "metadata": {},
   "source": [
    "Music genre is a label that describes the rhythm, pitch and timbre of the song among other things. This study revolves around a problem of trying to find as accurate as possible classificator for a data set containing thousands of songs from 10 different music genres. This study shows that Science Kit Learn library offers many ready algorithms that can be used for this classification task and found out that Linear Discriminant analysis with its 64% test accuracy was the most suitable of them for this task. The study also shows that with very imbalanced dataset as was used in this study, the classification accuracy of a genre depends on its representative proportion in the data set."
   ]
  },
  {
   "cell_type": "markdown",
   "metadata": {},
   "source": [
    "## 1. Introduction"
   ]
  },
  {
   "cell_type": "markdown",
   "metadata": {},
   "source": [
    "This study was made during the (CS-E3210) Machine Learning Basic Principles -course under Aalto University. The task was to find the most accurate Machine Learning solution that predicts the genres of various songs. The dataset used in this study was a subset from the Million Song Dataset, and the labels were obtained from AllMusic.com. The task more precisely was to train a ML algorithm to predict a given songs music genre from the following label set:\n",
    "1. 'Pop_Rock'\n",
    "2. 'Electronic'\n",
    "3. 'Rap'\n",
    "4. 'Jazz'\n",
    "5. 'Latin'\n",
    "6. 'RnB'\n",
    "7. 'International'\n",
    "8. 'Country'\n",
    "9. 'Reggae'\n",
    "10. 'Blues'\n",
    "\n",
    "This report discusses the accuracies of different Machine Learning algorithms and presents the implementation of the most accurate algorithm. The algorithms used to conduct this study were all from sklearn-library[2]. \n",
    "\n",
    "The given problem of automatically categorizing music genres is very useful for making recommendations for example based on mood or latest songs listened. This kind of algorithm would be (and probably is already) very useful for example Spotify or Itunes that have new songs added to their database every day and do new recommendations daily for their users.\n",
    "\n",
    "However classifying music genre of a song is not a simple task. Firstly, classifying a music genre of a song is always a very subjective problem. For example two different people might classify the genre of same song differently. Secondly, many genres are very close to each other, no matter how objectively studying a song. It is very hard to draw a line between rock and blues for example."
   ]
  },
  {
   "cell_type": "markdown",
   "metadata": {},
   "source": [
    "## 2. Data analysis"
   ]
  },
  {
   "cell_type": "markdown",
   "metadata": {},
   "source": [
    "For this classification study we were using two different data sets. The label data set was only given for training data containing 10 different labels of 4363 songs. The training data contained 4363 songs and the test data set 6544 songs. \n",
    "Every song   $\\mathbf{x}^{(i)}$   was described by 264 components. \n",
    "\n",
    "Let's have a brief look at the components of a song below:"
   ]
  },
  {
   "cell_type": "code",
   "execution_count": 7,
   "metadata": {
    "scrolled": true
   },
   "outputs": [
    {
     "data": {
      "text/html": [
       "<div>\n",
       "<style scoped>\n",
       "    .dataframe tbody tr th:only-of-type {\n",
       "        vertical-align: middle;\n",
       "    }\n",
       "\n",
       "    .dataframe tbody tr th {\n",
       "        vertical-align: top;\n",
       "    }\n",
       "\n",
       "    .dataframe thead th {\n",
       "        text-align: right;\n",
       "    }\n",
       "</style>\n",
       "<table border=\"1\" class=\"dataframe\">\n",
       "  <thead>\n",
       "    <tr style=\"text-align: right;\">\n",
       "      <th></th>\n",
       "      <th>0</th>\n",
       "      <th>1</th>\n",
       "      <th>2</th>\n",
       "      <th>3</th>\n",
       "      <th>4</th>\n",
       "      <th>5</th>\n",
       "      <th>6</th>\n",
       "      <th>7</th>\n",
       "      <th>8</th>\n",
       "      <th>9</th>\n",
       "      <th>...</th>\n",
       "      <th>254</th>\n",
       "      <th>255</th>\n",
       "      <th>256</th>\n",
       "      <th>257</th>\n",
       "      <th>258</th>\n",
       "      <th>259</th>\n",
       "      <th>260</th>\n",
       "      <th>261</th>\n",
       "      <th>262</th>\n",
       "      <th>263</th>\n",
       "    </tr>\n",
       "  </thead>\n",
       "  <tbody>\n",
       "    <tr>\n",
       "      <th>0</th>\n",
       "      <td>1040.7</td>\n",
       "      <td>2315.6</td>\n",
       "      <td>2839.1</td>\n",
       "      <td>2552.2</td>\n",
       "      <td>2290.4</td>\n",
       "      <td>1913.8</td>\n",
       "      <td>2152.6</td>\n",
       "      <td>1930.3</td>\n",
       "      <td>2079.3</td>\n",
       "      <td>1706.7</td>\n",
       "      <td>...</td>\n",
       "      <td>0.21649</td>\n",
       "      <td>0.36548</td>\n",
       "      <td>0.093584</td>\n",
       "      <td>0.16687</td>\n",
       "      <td>0.083426</td>\n",
       "      <td>0.11809</td>\n",
       "      <td>0.089792</td>\n",
       "      <td>0.074371</td>\n",
       "      <td>0.073162</td>\n",
       "      <td>0.059463</td>\n",
       "    </tr>\n",
       "  </tbody>\n",
       "</table>\n",
       "<p>1 rows × 264 columns</p>\n",
       "</div>"
      ],
      "text/plain": [
       "      0       1       2       3       4       5       6       7       8    \\\n",
       "0  1040.7  2315.6  2839.1  2552.2  2290.4  1913.8  2152.6  1930.3  2079.3   \n",
       "\n",
       "      9      ...         254      255       256      257       258      259  \\\n",
       "0  1706.7    ...     0.21649  0.36548  0.093584  0.16687  0.083426  0.11809   \n",
       "\n",
       "        260       261       262       263  \n",
       "0  0.089792  0.074371  0.073162  0.059463  \n",
       "\n",
       "[1 rows x 264 columns]"
      ]
     },
     "metadata": {},
     "output_type": "display_data"
    }
   ],
   "source": [
    "import pandas as pd\n",
    "\n",
    "df2 = pd.read_csv(\"train_labels.csv\", header=None)\n",
    "label_data = df2.values\n",
    "\n",
    "df = pd.read_csv(\"train_data.csv\", header=None)\n",
    "display(df.head(1))"
   ]
  },
  {
   "cell_type": "markdown",
   "metadata": {},
   "source": [
    "The 264 components of a song represent 3 different categories that describe the landscape of a song: timbre, pitch and rhythm.\n",
    "\n",
    "## 2.1 Rhythm Pattern\n",
    "\n",
    "The values $[\\mathbf{x}^{(i)}_{0}, \\mathbf{x}^{(i)}_{167}]$ describe the rhythm pattern of the song with 7 different statistics in 24 different bands. Rhythm Pattern e.g.[24x1024]) The statistics are:\n",
    "- mean\n",
    "- median\n",
    "- variance\n",
    "- kurtosis\n",
    "- skewness\n",
    "- min\n",
    "- max\n",
    "\n",
    "Let's have an example from the first songs first 7 rhythm pattern statistics:"
   ]
  },
  {
   "cell_type": "code",
   "execution_count": 8,
   "metadata": {
    "scrolled": true
   },
   "outputs": [
    {
     "name": "stdout",
     "output_type": "stream",
     "text": [
      "[1040.7 2315.6 2839.1 2552.2 2290.4 1913.8 2152.6]\n"
     ]
    }
   ],
   "source": [
    "import numpy as np\n",
    "train_data =df.values\n",
    "print(train_data[0,:7])"
   ]
  },
  {
   "cell_type": "markdown",
   "metadata": {},
   "source": [
    "Then let's plot all the first songs rhythm features:"
   ]
  },
  {
   "cell_type": "code",
   "execution_count": 9,
   "metadata": {},
   "outputs": [
    {
     "data": {
      "text/plain": [
       "<matplotlib.legend.Legend at 0x11f383160>"
      ]
     },
     "execution_count": 9,
     "metadata": {},
     "output_type": "execute_result"
    }
   ],
   "source": [
    "import matplotlib.pyplot as plt\n",
    "#\n",
    "fig, (ax1, ax2, ax3, ax4, ax5, ax6, ax7) = plt.subplots(7, 1, figsize =(7,10))\n",
    "\n",
    "means = train_data[0,:168:7]\n",
    "median = train_data[0,1:168:7]\n",
    "variance = train_data[0,2:168:7]\n",
    "kurtosis = train_data[0,3:168:7]\n",
    "skewness = train_data[0,4:168:7]\n",
    "min_ = train_data[0,5:168:7]\n",
    "max_ = train_data[0,6:168:7]\n",
    "x = range(24)\n",
    "ax1.plot(x, means, label = 'Rhythm pattern means', color = 'r')\n",
    "ax1.set_xlabel('band')\n",
    "ax1.set_ylabel('mean')\n",
    "\n",
    "ax2.plot(x, median, label = 'Rhythm pattern medians', color = 'r')\n",
    "ax2.set_xlabel('band')\n",
    "ax2.set_ylabel('median')\n",
    "\n",
    "ax3.plot(x, variance, label = 'Rhythm pattern variances', color = 'r')\n",
    "ax3.set_xlabel('band')\n",
    "ax3.set_ylabel('variance')\n",
    "\n",
    "ax4.plot(x, kurtosis, label = 'Rhythm pattern kurtosis', color = 'r')\n",
    "ax4.set_xlabel('band')\n",
    "ax4.set_ylabel('kurtosis')\n",
    "\n",
    "ax5.plot(x, skewness, label = 'Rhythm pattern skewness', color = 'r')\n",
    "ax5.set_xlabel('band')\n",
    "ax5.set_ylabel('skewness')\n",
    "\n",
    "ax6.plot(x, min_, label = 'Rhythm pattern min', color = 'r')\n",
    "ax6.set_xlabel('band')\n",
    "ax6.set_ylabel('min')\n",
    "\n",
    "ax7.plot(x, max_, label = 'Rhythm pattern max', color = 'r')\n",
    "ax7.set_xlabel('band')\n",
    "ax7.set_ylabel('max')\n",
    "\n",
    "ax1.legend()\n",
    "ax2.legend()\n",
    "ax3.legend()\n",
    "ax4.legend()\n",
    "ax5.legend()\n",
    "ax6.legend()\n",
    "ax7.legend()"
   ]
  },
  {
   "cell_type": "markdown",
   "metadata": {},
   "source": [
    "## 2.2. Bag of Frames for Chroma\n",
    "\n",
    "The values $[\\mathbf{x}^{(i)}_{168}, \\mathbf{x}^{(i)}_{215}]$ represent the Bag of Frames for Chroma with 4 different statistics in 12 pitch classes. (Chroma eq[12x1200]) The statistics are:\n",
    "- mean\n",
    "- standard deviation\n",
    "- min\n",
    "- max\n",
    "\n",
    "Let's have an example from the first songs first 4 chroma statistics:"
   ]
  },
  {
   "cell_type": "code",
   "execution_count": 10,
   "metadata": {
    "scrolled": true
   },
   "outputs": [
    {
     "name": "stdout",
     "output_type": "stream",
     "text": [
      "[0.53113 0.27914 0.291   0.18867]\n"
     ]
    }
   ],
   "source": [
    "print(train_data[0,168:172])"
   ]
  },
  {
   "cell_type": "markdown",
   "metadata": {},
   "source": [
    "## 2.3. Bag of Frames for MFCCs\n",
    "\n",
    "The last values $[\\mathbf{x}^{(i)}_{216}, \\mathbf{x}^{(i)}_{263}]$ represent the Bag of Frames for MFCCs with 4 statistics in 12 coefficients. (MFCCs [12x1200]) The statistics are :\n",
    "- mean\n",
    "- standard deviation\n",
    "- min\n",
    "- max\n",
    "\n",
    "Let's have an example from the first song's 4 MFCCs' statistics:"
   ]
  },
  {
   "cell_type": "code",
   "execution_count": 11,
   "metadata": {
    "scrolled": false
   },
   "outputs": [
    {
     "name": "stdout",
     "output_type": "stream",
     "text": [
      "[ 0.0018942 -0.0020002  0.0013012  0.0011586]\n"
     ]
    }
   ],
   "source": [
    "print(train_data[0,220:224])"
   ]
  },
  {
   "cell_type": "markdown",
   "metadata": {},
   "source": [
    "## 2.4. Form of feature data sets\n",
    "\n",
    "Thus, we conclude that the training dataset is\n",
    "\n",
    "$\\mathbf{X}_{training} \\in \\mathbb{R}^{4363x264}$\n",
    "\n",
    "and the test data set is \n",
    "\n",
    "$\\mathbf{X}_{test} \\in \\mathbb{R}^{6544x264}$\n",
    "\n",
    "\n",
    "## 2.5. Label Data set\n",
    "\n",
    "The label data set is of form:\n",
    "\n",
    "$\\mathbf{Y}_{training} \\in \\mathbb{R}^{4363}$\n",
    "\n",
    "and to get a touch on the labels, lets make a histogram of it below:"
   ]
  },
  {
   "cell_type": "code",
   "execution_count": 12,
   "metadata": {
    "scrolled": false
   },
   "outputs": [
    {
     "data": {
      "image/png": "[encoded data removed]",
      "text/plain": [
       "<Figure size 720x720 with 2 Axes>"
      ]
     },
     "metadata": {
      "needs_background": "light"
     },
     "output_type": "display_data"
    }
   ],
   "source": [
    "y_labels = ['Pop_Rock','Electronic','Rap','Jazz','Latin',\n",
    "               'RnB','International','Country','Reggae','Blues']\n",
    "\n",
    "#Plot histogram\n",
    "plot_histogram(label_data, y_labels) #function in appendix"
   ]
  },
  {
   "cell_type": "markdown",
   "metadata": {},
   "source": [
    "## 2.6. Weird data points\n",
    "\n",
    "As can be seen from above, the datapoints for training are imbalanced. The number of songs in category \"Pop-Rock\" is accounts to roughly 50% of the whole data. This needs to be taken in to account in later on in the algorithms.\n",
    "\n",
    "Also there are some anomalies in the dataset that are presented below:"
   ]
  },
  {
   "cell_type": "code",
   "execution_count": 14,
   "metadata": {
    "scrolled": false
   },
   "outputs": [
    {
     "data": {
      "image/png": "[encoded data removed]",
      "text/plain": [
       "<Figure size 504x1080 with 3 Axes>"
      ]
     },
     "metadata": {},
     "output_type": "display_data"
    }
   ],
   "source": [
    "plot_stats(train_data) #function in appendix"
   ]
  },
  {
   "cell_type": "markdown",
   "metadata": {},
   "source": [
    "*Figure 1.* shows mean and median of between same points in all songs. We can spot right away that there is some points in all or almost all of the songs that have significantly higher values than the rest since both mean and median of those points is so high. *Figure 2.* and *Figure 3.* show that there are some anomalies roughly at same points on every feature. Also there might be something wrong with features around indices [80,90]. These facts have to be considered later on while implementing the algorithms."
   ]
  },
  {
   "cell_type": "markdown",
   "metadata": {},
   "source": [
    "## 3. Methods and experiments"
   ]
  },
  {
   "cell_type": "markdown",
   "metadata": {},
   "source": [
    "Our approach to the problem of finding the most accurate classifier was to experiment with different Python scikit-learn library's algorithms. Sklearn-library has broad range of different algorithms [1] that were yet unknown to us. However, their interfaces were simple to use, so we decided just go and see how they work for the classification problem. This section discusses briefly the results in comparison and then more in-depth about the most accurate algorithm."
   ]
  },
  {
   "cell_type": "markdown",
   "metadata": {},
   "source": [
    "## 3.1. Splitting data\n",
    "\n",
    "First, we want to split the training dataset into train data and test data. This is an important step in order to avoid overfitting. We do this with the 'train_test_split' function and split the data randomly into 75% training set and 25% test set.\n",
    "\n",
    "Then we do preprocessing for the feature data with Standardscaler. This standardizes features by removing the mean and scaling to unit variance. Some machine learning algorithms work only with standardised features. Usually, this also fastens the run-time of the algorithms.\n",
    "\n",
    "Second, we try out nine different supervised machine learning classifiers for the given training data features and labels. These algorithms were chosen with basis that we can use a supervised classifier since we have a labeled test dataset. This will lead to better results in the end.\n",
    "The algorithms are:\n",
    "- LDA with Singular value decomposition,\n",
    "- LDA with Least squares solution,\n",
    "- Gaussian Naive Bayes,\n",
    "- Quadratic Discriminant Analysis,\n",
    "- K-Neighbors Classifier,\n",
    "- Logistic Regression,\n",
    "- K-Nearest Centroid,\n",
    "- MLP Classifier and\n",
    "- SGDClassifier.\n",
    "\n",
    "Lastly, we try to predict the labels of the test set with the different trained classifiers and report the accuracy of the classifier. We used the accuracy metrics in order the compare the performance of the different classifiers and chose the classifier with best accuracy for the kaggle competition.\n",
    "\n",
    "Detailed code is explained below."
   ]
  },
  {
   "cell_type": "markdown",
   "metadata": {},
   "source": [
    "#### First we want to import the libaries needed for this excercise. "
   ]
  },
  {
   "cell_type": "code",
   "execution_count": 41,
   "metadata": {
    "deletable": false,
    "nbgrader": {
     "cell_type": "code",
     "checksum": "014a593ce82d342a60d749c7a2c46b7c",
     "grade": true,
     "grade_id": "cell-c3ef844c17cf4a1e",
     "locked": false,
     "points": 1,
     "schema_version": 2,
     "solution": true
    }
   },
   "outputs": [],
   "source": [
    "# Import libraries\n",
    "from scipy import stats\n",
    "from sklearn.model_selection import train_test_split\n",
    "from sklearn.metrics import accuracy_score\n",
    "from sklearn.metrics import log_loss\n",
    "from math import exp"
   ]
  },
  {
   "cell_type": "markdown",
   "metadata": {},
   "source": [
    "#### Libaries related to different supervised machine learning algorithms from Python sklearn libary."
   ]
  },
  {
   "cell_type": "code",
   "execution_count": 16,
   "metadata": {},
   "outputs": [],
   "source": [
    "from sklearn.decomposition import PCA\n",
    "from sklearn.preprocessing import StandardScaler\n",
    "from sklearn.linear_model import LogisticRegression\n",
    "from sklearn.discriminant_analysis import LinearDiscriminantAnalysis as LDA\n",
    "from sklearn.naive_bayes import GaussianNB\n",
    "from sklearn.discriminant_analysis import QuadraticDiscriminantAnalysis\n",
    "from sklearn.neighbors import KNeighborsClassifier\n",
    "from sklearn.neighbors.nearest_centroid import NearestCentroid\n",
    "from sklearn.neural_network import MLPClassifier\n",
    "from sklearn.linear_model import SGDClassifier"
   ]
  },
  {
   "cell_type": "markdown",
   "metadata": {},
   "source": [
    "#### Train_model function trains the model according to given training feature vector, labels and classifier. This function is used to try out different machine learning methods as classifiers.\n",
    "\n",
    "\n",
    "#### Predict_labels function test the given classifier with a test dataset. The function returns the accuracy and the predictions of the classifier."
   ]
  },
  {
   "cell_type": "code",
   "execution_count": 47,
   "metadata": {},
   "outputs": [],
   "source": [
    "def calc_logloss(label_data, pred_probs, eps):\n",
    "    N_val = label_data.shape[0]\n",
    "    logloss = 0\n",
    "    for i in range(N_val):\n",
    "        logloss = logloss + np.log10(pred_probs[i,label_data[i]-1])\n",
    "    logloss = -logloss/N_val\n",
    "    logloss = np.exp(-1*logloss)\n",
    "    #print(logloss)\n",
    "\n",
    "def train_model(classifier, X, label_data, title):\n",
    "    classifier.fit(X, label_data)\n",
    "    acc = classifier.score(X, label_data)\n",
    "    \n",
    "    y_hat = classifier.predict_proba(X)\n",
    "    logloss = log_loss(label_data,y_hat, eps = 1e-15)\n",
    "    logloss = np.exp(-1*logloss)\n",
    "    #logloss = calc_logloss(label_data,y_hat, eps = 1e-15)\n",
    "    \n",
    "    X_r2 = classifier.fit_transform(X, y)\n",
    "    plot_scikit_lda(X_r2 ,label_data, title)\n",
    "    \n",
    "    return classifier, acc, logloss\n",
    "\n",
    "#Try with test data\n",
    "def predict_labels(classifier, X):\n",
    "    accuracy = classifier.predict(X)\n",
    "    print('Predicted labels for test_data', accuracy)\n",
    "    y_hat = classifier.predict_proba(X)\n",
    "    return accuracy, y_hat"
   ]
  },
  {
   "cell_type": "markdown",
   "metadata": {},
   "source": [
    "#### Here we train different classifiers with the randomly selected train dataset and print the accuracy, how the classifier can predict the labels of the other random 25% of the test dataset."
   ]
  },
  {
   "cell_type": "code",
   "execution_count": 49,
   "metadata": {
    "scrolled": true
   },
   "outputs": [
    {
     "name": "stderr",
     "output_type": "stream",
     "text": [
      "/opt/conda/lib/python3.6/site-packages/sklearn/discriminant_analysis.py:388: UserWarning: Variables are collinear.\n",
      "  warnings.warn(\"Variables are collinear.\")\n"
     ]
    },
    {
     "name": "stdout",
     "output_type": "stream",
     "text": [
      "0 : Prediction accuracy for LDA svd  is 0.6434 and log loss is 0.27\n",
      "1 : Prediction accuracy for LDA lsqr  is 0.6425\n",
      "2 : Prediction accuracy for GaussianNB  is 0.44\n"
     ]
    },
    {
     "name": "stderr",
     "output_type": "stream",
     "text": [
      "/opt/conda/lib/python3.6/site-packages/sklearn/discriminant_analysis.py:686: UserWarning: Variables are collinear\n",
      "  warnings.warn(\"Variables are collinear\")\n"
     ]
    },
    {
     "name": "stdout",
     "output_type": "stream",
     "text": [
      "3 : Prediction accuracy for QuadraticDiscriminantAnalysis  is 0.5014\n",
      "4 : Prediction accuracy for KNeighborsClassifier  is 0.5802\n",
      "5 : Prediction accuracy for LogisticRegression  is 0.6251\n",
      "6 : Prediction accuracy for NearestCentroid  is 0.4244\n",
      "7 : Prediction accuracy for MLPClassifier  is 0.5188\n",
      "8 : Prediction accuracy for SGDClassifier  is 0.6297\n"
     ]
    }
   ],
   "source": [
    "X_train, X_test, train_labels, test_labels = train_test_split(train_data,\n",
    "                                                          label_data,\n",
    "                                                          test_size=0.25,\n",
    "                                                          random_state=1,\n",
    "                                                          shuffle = True)\n",
    "y_train = train_labels.ravel()\n",
    "X_train  = StandardScaler().fit_transform(X_train)\n",
    "\n",
    "y_test = test_labels.ravel()\n",
    "X_test  = StandardScaler().fit_transform(X_test)\n",
    "\n",
    "#Try out different classifiers\n",
    "classifiers = [LDA(solver='svd',n_components=10, tol=0.0001),\n",
    "               LDA(solver='lsqr',n_components=10, tol=0.0001),\n",
    "               GaussianNB(),\n",
    "               QuadraticDiscriminantAnalysis(),\n",
    "               KNeighborsClassifier(n_neighbors = 10, weights='distance'),\n",
    "               LogisticRegression(solver = 'lbfgs', multi_class='multinomial', max_iter = 1000),\n",
    "               NearestCentroid(metric='euclidean', shrink_threshold=None),\n",
    "               MLPClassifier(solver='lbfgs', alpha=1e-5, \n",
    "                           hidden_layer_sizes=(5, 2), random_state=1),\n",
    "               SGDClassifier(loss=\"log\", alpha=0.001, penalty=\"l1\", max_iter=1000, shuffle=True)]\n",
    "\n",
    "clf_names = ['LDA svd','LDA lsqr','GaussianNB','QuadraticDiscriminantAnalysis',\n",
    "             'KNeighborsClassifier', 'LogisticRegression', 'NearestCentroid',\n",
    "             'MLPClassifier', 'SGDClassifier']\n",
    "\n",
    "results = []\n",
    "i = 0\n",
    "for classifier in classifiers:\n",
    "    model = classifier.fit(X_train, y_train)\n",
    "    \n",
    "    preds = classifier.predict(X_test)\n",
    "    acc = accuracy_score(test_labels, preds)\n",
    "    if i == 0:\n",
    "        y_hat = classifier.predict_proba(X_test)\n",
    "        logloss = log_loss(y_test,y_hat, eps=1e-15)\n",
    "        logloss = np.exp(-1*logloss)\n",
    "        #print('logloss is ', logloss)\n",
    "        print(i, ': Prediction accuracy for', clf_names[i], ' is', round(acc,4), 'and log loss is', round(logloss,2))\n",
    "    else:\n",
    "        print(i, ': Prediction accuracy for', clf_names[i], ' is', round(acc,4))\n",
    "    i +=1\n",
    "    "
   ]
  },
  {
   "cell_type": "markdown",
   "metadata": {},
   "source": [
    "## 3.2 Choosing the best algorithm\n",
    "\n",
    "As we can see above results that the linear discriminant analysis as classifier gives the best accuracy when predicting untrained data.\n",
    "\n",
    "Testing the accuracy with an untrained dataset is very important for correct conclusions. We also tried the same classifiers by using the whole 'training dataset' for both training and testing. This lead to a result, for example where K-neighbours classifier showed an accuracy of 100% and the LDA an accuracy of 74% which is higher than the 64% that we got above. However, when submitting the results to the Kaggle, K-neighbour gave a worse result than linear discriminant analysis. This highlights the need of using different dataset for training and testing. Not doing this might lead to overfitting which would give us a misleading result.\n",
    "\n",
    "LDA stands for Linear Discriminant Analysis, which can be categorised as a supervised learning algorithm. LDA is a classifier with a linear decision boundary, generated by fitting class conditional densities to the data and using Bayes’ rule. The model fits a Gaussian density to each class, assuming that all classes share the same covariance matrix. The fitted model can also be used to reduce the dimensionality of the input by projecting it to the most discriminative directions. [5] [3]\n",
    "\n",
    "## 3.3 Predicting labels for test_data\n",
    "\n",
    "The last part of this section shows want to submit our prediction to the Kaggle competition with the method that we found best. First we used the whole training dataset to train the linear discriminant analysis as classifier. Then we predicted the labels for the test_data which we then submitted to Kaggle.\n",
    "\n",
    "Here below we show an example graph of the first two components of LDA in a scatter plot. The different colors show how different song genres fall into this scatter plot.\n",
    "\n",
    "You can see that the first and second components are good at differentiating some of the genres. For example, red electronic, green rap and black jazz are all in different corners of the plot which means that the two components can be used to predict well the differences between electronic, rap and jazz. However, we can not see clearly all the 10 different colors which means shows that these two components are not enough to differentiate all the 10 different genres.\n"
   ]
  },
  {
   "cell_type": "code",
   "execution_count": 48,
   "metadata": {
    "scrolled": false
   },
   "outputs": [
    {
     "name": "stderr",
     "output_type": "stream",
     "text": [
      "/opt/conda/lib/python3.6/site-packages/sklearn/discriminant_analysis.py:388: UserWarning: Variables are collinear.\n",
      "  warnings.warn(\"Variables are collinear.\")\n",
      "/opt/conda/lib/python3.6/site-packages/sklearn/discriminant_analysis.py:388: UserWarning: Variables are collinear.\n",
      "  warnings.warn(\"Variables are collinear.\")\n",
      "/opt/conda/lib/python3.6/site-packages/matplotlib/cbook/deprecation.py:107: MatplotlibDeprecationWarning: Passing one of 'on', 'true', 'off', 'false' as a boolean is deprecated; use an actual boolean (True/False) instead.\n",
      "  warnings.warn(message, mplDeprecation, stacklevel=1)\n"
     ]
    },
    {
     "data": {
      "image/png": "[encoded data removed]",
      "text/plain": [
       "<Figure size 432x288 with 1 Axes>"
      ]
     },
     "metadata": {},
     "output_type": "display_data"
    },
    {
     "name": "stdout",
     "output_type": "stream",
     "text": [
      "Prediction accuracy with LDA when using same train_data and test data 0.740087096035\n",
      "Predicted logloss with LDA when using same train_data and test data 0.431219079425\n",
      "Predicted labels for test_data [3 9 1 ..., 1 3 1]\n"
     ]
    }
   ],
   "source": [
    "# Use Linear discriminant analysis as classifier for the Kaggle competition\n",
    "df = pd.read_csv(\"test_data.csv\", header=None)\n",
    "test_data =df.values\n",
    "\n",
    "title='Linear discriminant analysis with SVD'\n",
    "classifier = LDA(solver = 'svd', n_components=10, tol=0.0001)\n",
    "X  = StandardScaler().fit_transform(train_data)\n",
    "y = label_data.ravel()\n",
    "classifier, acc, logloss = train_model(classifier, X, y, title)\n",
    "\n",
    "print('Prediction accuracy with LDA when using same train_data and test data', acc)\n",
    "print('Predicted logloss with LDA when using same train_data and test data', logloss)\n",
    "\n",
    "X  = StandardScaler().fit_transform(test_data)\n",
    "lda_accuracy, y_hat =predict_labels(classifier, X) #run plot_scikit_lda from appendix\n",
    "\n",
    "#print('Shape of the logistic loss results are', y_hat.shape[0], 'x', y_hat.shape[1])"
   ]
  },
  {
   "cell_type": "markdown",
   "metadata": {},
   "source": [
    "## 4. Results"
   ]
  },
  {
   "cell_type": "markdown",
   "metadata": {},
   "source": [
    "Using linear discrimant analysis as classifier on 25 % of untrained part of the train_data: \n",
    "- Accuracy: 0.6434\n",
    "- LogLoss: 0.27\n",
    "\n",
    "The performance on kaggle is quite comparable with the results that we got with the train data. The result for kaggle \n",
    "- Accuracy: 0.64187\n",
    "- LogLoss: 0.18576\n",
    "\n",
    "Confusion matrix is calculated and shown below, where the true labels are the column headers and the predicted labels the row headers.\n",
    "\n",
    "1. 'Pop_Rock'\n",
    "2. 'Electronic'\n",
    "3. 'Rap'\n",
    "4. 'Jazz'\n",
    "5. 'Latin'\n",
    "6. 'RnB'\n",
    "7. 'International'\n",
    "8. 'Country'\n",
    "9. 'Reggae'\n",
    "10. 'Blues'"
   ]
  },
  {
   "cell_type": "code",
   "execution_count": 32,
   "metadata": {
    "scrolled": false
   },
   "outputs": [
    {
     "name": "stdout",
     "output_type": "stream",
     "text": [
      "Confusion matrix:\n",
      "[[462  18   4   5   6   6   4  18   3   2]\n",
      " [ 48  79   7   4   2   1   0   0   2   0]\n",
      " [ 17   2  61   1   0   3   1   0   1   0]\n",
      " [ 23   5   2  31   1   4   1   0   1   0]\n",
      " [ 24   3   0   3   7   4   5   2   5   3]\n",
      " [ 42   4   4   5   0  14   3   2   2   1]\n",
      " [ 20   2   1   1   4   0   3   1   2   1]\n",
      " [ 29   1   1   0   1   1   0  10   0   1]\n",
      " [ 12   2   2   0   1   1   1   0   7   2]\n",
      " [ 16   1   0   0   1   1   0   3   0   4]]\n",
      "Number of songs:  1091\n",
      "Label:                % correct\n",
      "genre.Pop_Rock         0.67\n",
      "genre.Electronic         0.68\n",
      "genre.Rap         0.74\n",
      "genre.Jazz         0.62\n",
      "genre.Latin         0.30\n",
      "genre.RnB         0.40\n",
      "genre.International         0.17\n",
      "genre.Country         0.28\n",
      "genre.Reggae         0.30\n",
      "genre.Blues         0.29\n",
      "\n",
      "Total number of songs in this subset of training data:  1091.0 \n",
      "\n",
      "RAP total:  117.0\n",
      "Blues total:  14.0\n",
      "POP_ROCK total:  693.0\n",
      "Jazz total:  82.0\n"
     ]
    }
   ],
   "source": [
    "#run genre from appendix\n",
    "c_matrix = np.zeros([10,10])\n",
    "sum_ = 0\n",
    "for i in range(len(y_test)):\n",
    "    c_matrix[y_test[i]-1][preds[i]-1]+=1\n",
    "    sum_+=1\n",
    "\n",
    "print('Confusion matrix:')\n",
    "print(c_matrix.astype(int))\n",
    "print(\"Number of songs: \", sum_ )\n",
    "\n",
    "print(\"Label:       \", \"        % correct\")\n",
    "for i in range(10):\n",
    "    r_cell = c_matrix[i,i]/np.sum(c_matrix[:,i])\n",
    "    print(genre(i+1),\"       \" ,\"%.2f\" % (r_cell))\n",
    "\n",
    "print(\"\\nTotal number of songs in this subset of training data: \", np.sum(c_matrix),\"\\n\")\n",
    "\n",
    "print(\"RAP total: \", np.sum(c_matrix[:,1]))\n",
    "print(\"Blues total: \", np.sum(c_matrix[:,9]))\n",
    "print(\"POP_ROCK total: \", np.sum(c_matrix[:,0]))\n",
    "print(\"Jazz total: \", np.sum(c_matrix[:, 2]))"
   ]
  },
  {
   "cell_type": "markdown",
   "metadata": {},
   "source": [
    "## 5. Discussion/Conclusions"
   ]
  },
  {
   "cell_type": "markdown",
   "metadata": {},
   "source": [
    "The goal of this study was to find the best music genre classificator for songs and to research what makes it the best. There was eight different algorithms that we tested and the result was that Linear Discriminant Analysis was the most accurate with more than 64% accuracy. It seems that LDA works well with datasets that have a lot of features and labels. This is because LDA is a supervised way of dimensionality reduction of the feature vectors. We had a broad training data set with given labels which allowed us to use a supervised method.\n",
    "\n",
    "### 5.1 Imbalanced training dataset\n",
    "It seems that the smaller the representation of the music genre had in the feature data set, the worse the trained algorithm was at classifying the songs in the genre. For example in our subset of training data that had 123 songs of Rap and only 9 songs of Blues, the accuracy of recognising Rap was 75%, but Blueses was only 22%. Also the subset included 705 songs of Pop_rock genre under and the classification accuracy for this genre 65%.\n",
    "\n",
    "### 5.2 Comparing LDA to literature\n",
    "Linear Discriminant Analyisis is widely used when dimension reduction is needed.[3] In literature were presented some even more accurate ways to classify music genres than the one we used. For example using K-nearest-neighbours algorithm after reducing the dimensions was found to result in an accuracy of roughly 80%. [4] This study was conducted with very much smaller datasets, both feature and label -wise.\n",
    "\n",
    "### 5.3 Suggestions for research / improvement\n",
    "Next things to try with the same problem setting would be to try and train the algorithms with balanced data. Also another interesting research area would be to try more combinations with the data. For example using PCA first and then LDA and KNN as was done in [4].\n"
   ]
  },
  {
   "cell_type": "markdown",
   "metadata": {},
   "source": [
    "## 6. References"
   ]
  },
  {
   "cell_type": "markdown",
   "metadata": {},
   "source": [
    "1. Science Kit http://scikit-learn.org/stable/index.html\n",
    "2. Assignment and data description. https://mycourses.aalto.fi/pluginfile.php/743413/mod_resource/content/14/MLBP%202018%20project%20description.pdf \n",
    "3. Sebastian Raschka, 2014, Linear Discriminant Analysis - bit by bit https://sebastianraschka.com/Articles/2014_python_lda.html\n",
    "4. Roman Bogdanowski, Automatic Genre Classification Of Audio Signals Using Fisher's Linear Discriminant Analysis http://people.bu.edu/romanb/GenreRecognitionReport.pdf\n",
    "5. Science Kit LDA documentation http://scikit-learn.org/stable/modules/generated/sklearn.discriminant_analysis.LinearDiscriminantAnalysis.html"
   ]
  },
  {
   "cell_type": "markdown",
   "metadata": {},
   "source": [
    "## Appendix\n",
    "\n",
    "The function below is used to plot the scatter \"Linear discriminant analysis with SVD\"."
   ]
  },
  {
   "cell_type": "code",
   "execution_count": 4,
   "metadata": {},
   "outputs": [],
   "source": [
    "\"\"\" VISUALIZE THE DATA \"\"\"\n",
    "\n",
    "def plot_scikit_lda(X,y, title): #tätä käytetään ylhäällä\n",
    "    label_dict = ['Pop_Rock',\n",
    "               'Electronic',\n",
    "               'Rap',\n",
    "               'Jazz',\n",
    "               'Latin',\n",
    "               'RnB',\n",
    "               'International',\n",
    "               'Country',\n",
    "               'Reggae',\n",
    "               'Blues']\n",
    "    \n",
    "    ax = plt.subplot(111)\n",
    "    for label,marker,color in zip(\n",
    "        range(0,9),\n",
    "        ('.', '.', '.','.','.','.','.','.','.','.'),\n",
    "        ('blue', 'red', 'green','black','yellow','purple','grey','orange','teal','pink')):\n",
    "        \n",
    "        indx_1 = np.where(y == label) # for Specific label.\n",
    "        plt.scatter(x=X[indx_1,0],\n",
    "                    y=X[indx_1,1],\n",
    "                    marker=marker,\n",
    "                    color=color,\n",
    "                    alpha=0.5,\n",
    "                    label=label_dict[label])\n",
    "\n",
    "    plt.xlabel('LD1')\n",
    "    plt.ylabel('LD2')\n",
    "\n",
    "    leg = plt.legend(loc='upper right', fancybox=True)\n",
    "    leg.get_frame().set_alpha(0.5)\n",
    "    plt.title(title)\n",
    "\n",
    "    # hide axis ticks\n",
    "    plt.tick_params(axis=\"both\", which=\"both\", bottom=\"off\", top=\"off\",  \n",
    "            labelbottom=\"on\", left=\"off\", right=\"off\", labelleft=\"on\")\n",
    "\n",
    "    # remove axis spines\n",
    "    ax.spines[\"top\"].set_visible(False)  \n",
    "    ax.spines[\"right\"].set_visible(False)\n",
    "    ax.spines[\"bottom\"].set_visible(False)\n",
    "    ax.spines[\"left\"].set_visible(False)    \n",
    "\n",
    "    plt.grid()\n",
    "    plt.tight_layout\n",
    "    plt.show()\n"
   ]
  },
  {
   "cell_type": "code",
   "execution_count": 3,
   "metadata": {},
   "outputs": [],
   "source": [
    "def plot_histogram(X, x_labels):\n",
    "    \n",
    "    fig, (ax1, ax2) = plt.subplots(2, 1, figsize=(10,10))\n",
    "    counts, bins, patches = ax1.hist(X, rwidth=0.7)\n",
    "    #ax.set_xticks(bins)\n",
    "    ax1.set_xlabel('Genre of song')\n",
    "    ax1.set_ylabel('Number of songs in genre')\n",
    "    ax1.set_title(r'$\\bf{Figure\\ 1.}$Histogram of test data')\n",
    "    \n",
    "    y = [0, 0, 0, 0, 0, 0, 0, 0,0,0]\n",
    "    for i in range(len(counts)):\n",
    "        y[i] = counts[i]\n",
    "    \n",
    "    x = np.arange(10)\n",
    "    ax2.bar(x, y, align='center', tick_label=x_labels)\n",
    "    ax2.set_xlabel('Genre of the song')\n",
    "    plt.xticks(rotation=90)\n",
    "    \n",
    "    \n",
    "    \n",
    "def plot_stats(data):\n",
    "    d = data.shape[1]\n",
    "    y = np.zeros((d,5))\n",
    "    for j in range(0,d):\n",
    "        col_data = data[:,j]\n",
    "        #print(j)\n",
    "        #print(y)\n",
    "        y[j,0] = np.average(col_data)\n",
    "        y[j,1] = np.min(col_data)\n",
    "        y[j,2] = np.max(col_data)\n",
    "        y[j,3] = np.median(col_data)\n",
    "        y[j,4] = np.var(col_data)\n",
    "    \n",
    "    x = np.arange(0,data.shape[1],1)\n",
    "    \n",
    "    fig, (ax1, ax2,ax3) = plt.subplots(3, 1, sharex=True, figsize =(7,15))\n",
    "    ax3.set_xlabel('Feature')\n",
    "    \n",
    "    ax1.scatter(x, y[:,0], label = 'Average', color = 'r')\n",
    "    ax1.scatter(x, y[:,3], label = 'median', color = 'g')\n",
    "    ax1.set_ylabel('Average and median of feature')\n",
    "    \n",
    "    ax2.scatter(x, y[:,1], label = 'min', color = 'r')\n",
    "    ax2.scatter(x, y[:,2], label = 'max', color = 'b')\n",
    "    ax2.set_ylabel('Min and max of feature')\n",
    "    \n",
    "    ax3.scatter(x, y[:,2], label = 'var', color = 'r')\n",
    "    ax3.set_ylabel('Variance of feature')\n",
    "    \n",
    "    ax1.set_title(r'$\\bf{Figure\\ 1.}$Histogram of test data feature stats')\n",
    "    ax1.legend()\n",
    "    ax2.legend()\n",
    "    ax3.legend()"
   ]
  },
  {
   "cell_type": "markdown",
   "metadata": {},
   "source": [
    "This was used to write the results in to .csv to participate in the Kaggle competition."
   ]
  },
  {
   "cell_type": "code",
   "execution_count": 5,
   "metadata": {},
   "outputs": [
    {
     "ename": "NameError",
     "evalue": "name 'lda_accuracy' is not defined",
     "output_type": "error",
     "traceback": [
      "\u001b[0;31m---------------------------------------------------------------------------\u001b[0m",
      "\u001b[0;31mNameError\u001b[0m                                 Traceback (most recent call last)",
      "\u001b[0;32m<ipython-input-5-96b6bdfcbe2c>\u001b[0m in \u001b[0;36m<module>\u001b[0;34m\u001b[0m\n\u001b[1;32m      6\u001b[0m     \u001b[0mwriter\u001b[0m\u001b[0;34m.\u001b[0m\u001b[0mwriteheader\u001b[0m\u001b[0;34m(\u001b[0m\u001b[0;34m)\u001b[0m\u001b[0;34m\u001b[0m\u001b[0m\n\u001b[1;32m      7\u001b[0m     \u001b[0;32mfor\u001b[0m \u001b[0mi\u001b[0m \u001b[0;32min\u001b[0m \u001b[0mrange\u001b[0m\u001b[0;34m(\u001b[0m\u001b[0;36m0\u001b[0m\u001b[0;34m,\u001b[0m \u001b[0;36m6544\u001b[0m\u001b[0;34m)\u001b[0m\u001b[0;34m:\u001b[0m\u001b[0;34m\u001b[0m\u001b[0m\n\u001b[0;32m----> 8\u001b[0;31m         \u001b[0mwriter\u001b[0m\u001b[0;34m.\u001b[0m\u001b[0mwriterow\u001b[0m\u001b[0;34m(\u001b[0m\u001b[0;34m{\u001b[0m\u001b[0;34m'Sample_id'\u001b[0m\u001b[0;34m:\u001b[0m \u001b[0mint\u001b[0m\u001b[0;34m(\u001b[0m\u001b[0mi\u001b[0m\u001b[0;34m+\u001b[0m\u001b[0;36m1\u001b[0m\u001b[0;34m)\u001b[0m\u001b[0;34m,\u001b[0m \u001b[0;34m'Sample_label'\u001b[0m\u001b[0;34m:\u001b[0m \u001b[0mint\u001b[0m\u001b[0;34m(\u001b[0m\u001b[0mlda_accuracy\u001b[0m\u001b[0;34m[\u001b[0m\u001b[0mi\u001b[0m\u001b[0;34m]\u001b[0m\u001b[0;34m)\u001b[0m\u001b[0;34m}\u001b[0m\u001b[0;34m)\u001b[0m\u001b[0;34m\u001b[0m\u001b[0m\n\u001b[0m\u001b[1;32m      9\u001b[0m \u001b[0;34m\u001b[0m\u001b[0m\n\u001b[1;32m     10\u001b[0m \u001b[0;32mwith\u001b[0m \u001b[0mopen\u001b[0m\u001b[0;34m(\u001b[0m\u001b[0;34m'logloss_48.csv'\u001b[0m\u001b[0;34m,\u001b[0m \u001b[0mmode\u001b[0m\u001b[0;34m=\u001b[0m\u001b[0;34m'w'\u001b[0m\u001b[0;34m)\u001b[0m \u001b[0;32mas\u001b[0m \u001b[0mcsv_file\u001b[0m\u001b[0;34m:\u001b[0m\u001b[0;34m\u001b[0m\u001b[0m\n",
      "\u001b[0;31mNameError\u001b[0m: name 'lda_accuracy' is not defined"
     ]
    }
   ],
   "source": [
    "#Write submission files for accuracy competition and logloss competition.\n",
    "import csv \n",
    "with open('accuracy_48.csv', mode='w') as csv_file:\n",
    "    fieldnames = ['Sample_id', 'Sample_label']\n",
    "    writer = csv.DictWriter(csv_file, fieldnames=fieldnames)\n",
    "    writer.writeheader()\n",
    "    for i in range(0, 6544):\n",
    "        writer.writerow({'Sample_id': int(i+1), 'Sample_label': int(lda_accuracy[i])})\n",
    "        \n",
    "with open('logloss_48.csv', mode='w') as csv_file:\n",
    "    fieldnames = ['Sample_id', 'Class_1', 'Class_2', 'Class_3', 'Class_4', 'Class_5', 'Class_6', 'Class_7', 'Class_8', 'Class_9', 'Class_10']\n",
    "    writer = csv.DictWriter(csv_file, fieldnames=fieldnames)\n",
    "    writer.writeheader()\n",
    "    for i in range(0, 6544):\n",
    "        writer.writerow({'Sample_id': int(i+1), 'Class_1': y_hat[i,0]\n",
    "                         , 'Class_2': y_hat[i,1]\n",
    "                         , 'Class_3': y_hat[i,2]\n",
    "                         , 'Class_4': y_hat[i,3]\n",
    "                         , 'Class_5': y_hat[i,4]\n",
    "                         , 'Class_6': y_hat[i,5]\n",
    "                         , 'Class_7': y_hat[i,6]\n",
    "                         , 'Class_8': y_hat[i,7]\n",
    "                         , 'Class_9': y_hat[i,8]\n",
    "                         , 'Class_10': y_hat[i,9]})\n"
   ]
  },
  {
   "cell_type": "markdown",
   "metadata": {},
   "source": [
    "Small enumeration trick for printing out results in part 4."
   ]
  },
  {
   "cell_type": "code",
   "execution_count": 6,
   "metadata": {},
   "outputs": [],
   "source": [
    "from enum import Enum\n",
    "class genre(Enum):\n",
    "    Pop_Rock = 1\n",
    "    Electronic = 2\n",
    "    Rap = 3\n",
    "    Jazz = 4\n",
    "    Latin = 5\n",
    "    RnB = 6\n",
    "    International = 7\n",
    "    Country = 8\n",
    "    Reggae = 9\n",
    "    Blues = 10"
   ]
  }
 ],
 "metadata": {
  "kernelspec": {
   "display_name": "Python 3",
   "language": "python",
   "name": "python3"
  },
  "language_info": {
   "codemirror_mode": {
    "name": "ipython",
    "version": 3
   },
   "file_extension": ".py",
   "mimetype": "text/x-python",
   "name": "python",
   "nbconvert_exporter": "python",
   "pygments_lexer": "ipython3",
   "version": "3.6.6"
  }
 },
 "nbformat": 4,
 "nbformat_minor": 2
}
